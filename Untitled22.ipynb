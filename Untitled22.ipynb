{
  "nbformat": 4,
  "nbformat_minor": 0,
  "metadata": {
    "colab": {
      "name": "Untitled22.ipynb",
      "provenance": [],
      "toc_visible": true
    },
    "kernelspec": {
      "name": "python3",
      "display_name": "Python 3"
    },
    "language_info": {
      "name": "python"
    }
  },
  "cells": [
    {
      "cell_type": "code",
      "execution_count": 9,
      "metadata": {
        "colab": {
          "base_uri": "https://localhost:8080/"
        },
        "id": "ZPlcPf7PIl56",
        "outputId": "37bd704e-4d87-401d-b91f-4e1ef28bd32f"
      },
      "outputs": [
        {
          "output_type": "stream",
          "name": "stdout",
          "text": [
            "Enter the number:10\n",
            "2\n",
            "3\n",
            "5\n",
            "7\n"
          ]
        }
      ],
      "source": [
        "\n",
        "\n",
        "first_value=1\n",
        "n = int(input(\"Enter the number:\"))\n",
        "for num in range(first_value, n+1):\n",
        "    if(num>1):\n",
        "        for i in range(2,num):\n",
        "            if(num%i)==0:\n",
        "                break\n",
        "        else:\n",
        "            print(num)\n"
      ]
    },
    {
      "cell_type": "code",
      "source": [
        "lower = int(input(\"Enter the low value:\"))\n",
        "higher = int(input(\"Enter the high value:\"))\n",
        "for num in range(lower, higher+1):\n",
        "    if(num>1):\n",
        "        for i in range(2,num):\n",
        "            if(num%i)==0:\n",
        "                break\n",
        "        else:\n",
        "            print(num)\n",
        "\n",
        "\n"
      ],
      "metadata": {
        "colab": {
          "base_uri": "https://localhost:8080/"
        },
        "id": "JqoPbjMvIxT9",
        "outputId": "990065fb-8874-4009-9542-599e3913d542"
      },
      "execution_count": 10,
      "outputs": [
        {
          "output_type": "stream",
          "name": "stdout",
          "text": [
            "Enter the low value:10\n",
            "Enter the high value:20\n",
            "11\n",
            "13\n",
            "17\n",
            "19\n"
          ]
        }
      ]
    }
  ]
}